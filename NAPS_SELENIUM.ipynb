{
 "cells": [
  {
   "cell_type": "code",
   "execution_count": null,
   "id": "235c2931",
   "metadata": {},
   "outputs": [],
   "source": [
    "import pandas as pd\n",
    "import glob\n",
    "import numpy as np\n",
    "pd.set_option('display.max_columns', None)\n",
    "from IPython.display import clear_output"
   ]
  },
  {
   "cell_type": "code",
   "execution_count": null,
   "id": "7944e45a",
   "metadata": {},
   "outputs": [],
   "source": [
    "# data frame of station locations\n",
    "station_location_filepath = '/Users/isabellelao/Desktop/NAPS_new/raw_data/StationsNAPS-StationsSNPA.csv'\n",
    "station_location = pd.read_csv(station_location_filepath, encoding='latin-1')\n",
    "station_location.columns = station_location.iloc[2]\n",
    "station_location.drop([0,1,2,3], axis=0, inplace=True)\n",
    "station_location.reset_index(drop=True, inplace=True)\n",
    "station_location\n"
   ]
  },
  {
   "cell_type": "code",
   "execution_count": null,
   "id": "9ec92378",
   "metadata": {},
   "outputs": [],
   "source": [
    "def NAPS_dataextract(filepath,year): \n",
    "\n",
    "    if int(year)<2016:\n",
    "        all_files = glob.glob(filepath+ year + '/*_PM25_' + year +'.xlsx')    \n",
    "    else:    \n",
    "        all_files = glob.glob(filepath+ year + '/*_PM25_' + year +'_EN.xlsx')  \n",
    "   \n",
    "    all_df = pd.DataFrame()\n",
    "        \n",
    "    for file_index in range(len(all_files)):        \n",
    "        currfile_metadata= pd.ExcelFile(all_files[file_index])\n",
    "        for ind,e in enumerate(currfile_metadata.sheet_names):\n",
    "            print (str(ind) + '.', e)        \n",
    "        sheet_num = input('Insert sheet number(s).\\nRemember python indexing starts at 0.\\nDo not separate sheet numbers by spaces.\\nSeparate by commas if more than 1 sheet.\\n')     \n",
    "        sheet_num = sheet_num.split(',')\n",
    "\n",
    "        for i in sheet_num:\n",
    "            curr_sheet = pd.read_excel(all_files[file_index],sheet_name=currfile_metadata.sheet_names[int(i)])\n",
    "            print(curr_sheet.head(15))\n",
    "            index = input('Input row number for where the column header is.\\nIt probablly is on the 8th row.\\n')\n",
    "            curr_sheet.columns = curr_sheet.iloc[int(index)]\n",
    "            curr_sheet.drop(range(int(index)+1), axis=0, inplace=True)\n",
    "            print(curr_sheet.columns)\n",
    "            columns_wanted = input('Columns wanted separated by commas.\\nDo not separate columns by spaces.\\nType SKIP if no elements wanted.\\n')\n",
    "            if columns_wanted == 'SKIP':\n",
    "                break            \n",
    "            columns_wanted = columns_wanted.split(',')\n",
    "            clean_df = curr_sheet[columns_wanted].copy()\n",
    "            columns_toclean = input('Columns to clean separated by commas.\\nCleaning means removing all -999 values.\\n')\n",
    "            clean_df.drop(clean_df.loc[clean_df[columns_toclean]==-999].index, inplace=True)\n",
    "            clean_df = clean_df.reset_index(drop=True)\n",
    "            all_df = all_df.append(clean_df, ignore_index=True)\n",
    "            clear_output(wait=True)\n",
    "            \n",
    "    return all_df  \n"
   ]
  },
  {
   "cell_type": "code",
   "execution_count": null,
   "id": "844ab8fd",
   "metadata": {},
   "outputs": [],
   "source": [
    "# data frame of WS\n",
    "all_ws = pd.DataFrame()\n",
    "years_wanted = ['2016'] # INPUT WHAT YEARS\n",
    "filepath = '/Users/isabellelao/Desktop/NAPS_new/raw_data/' #INPUT LOCATION OF RAW FILES ORGANIZED BY YEAR\n",
    "for year in years_wanted:\n",
    "    df = NAPS_dataextract(filepath,year) \n",
    "    all_ws = all_ws.append(df, ignore_index=True) \n",
    "       "
   ]
  },
  {
   "cell_type": "code",
   "execution_count": null,
   "id": "ad9df66e",
   "metadata": {},
   "outputs": [],
   "source": [
    "all_ws"
   ]
  }
 ],
 "metadata": {
  "kernelspec": {
   "display_name": "Python 3 (ipykernel)",
   "language": "python",
   "name": "python3"
  },
  "language_info": {
   "codemirror_mode": {
    "name": "ipython",
    "version": 3
   },
   "file_extension": ".py",
   "mimetype": "text/x-python",
   "name": "python",
   "nbconvert_exporter": "python",
   "pygments_lexer": "ipython3",
   "version": "3.9.7"
  }
 },
 "nbformat": 4,
 "nbformat_minor": 5
}
